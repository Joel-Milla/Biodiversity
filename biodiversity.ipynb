{
 "cells": [
  {
   "cell_type": "markdown",
   "metadata": {},
   "source": [
    "# Biodiversity in National Parks\n",
    "We start the analysis by saving the data into a pandas dataframe and analyzing the information."
   ]
  },
  {
   "cell_type": "code",
   "execution_count": 20,
   "metadata": {},
   "outputs": [
    {
     "name": "stdout",
     "output_type": "stream",
     "text": [
      "  category  ... conservation_status\n",
      "0   Mammal  ...                 NaN\n",
      "1   Mammal  ...                 NaN\n",
      "2   Mammal  ...                 NaN\n",
      "3   Mammal  ...                 NaN\n",
      "4   Mammal  ...                 NaN\n",
      "\n",
      "[5 rows x 4 columns]\n",
      "            scientific_name                            park_name  observations\n",
      "0        Vicia benghalensis  Great Smoky Mountains National Park            68\n",
      "1            Neovison vison  Great Smoky Mountains National Park            77\n",
      "2         Prunus subcordata               Yosemite National Park           138\n",
      "3      Abutilon theophrasti                  Bryce National Park            84\n",
      "4  Githopsis specularioides  Great Smoky Mountains National Park            85\n"
     ]
    }
   ],
   "source": [
    "import pandas as pd\n",
    "\n",
    "species_info = pd.read_csv('species_info.csv')\n",
    "observations = pd.read_csv('observations.csv')\n",
    "\n",
    "print(species_info.head())\n",
    "print(observations.head())"
   ]
  },
  {
   "cell_type": "markdown",
   "metadata": {},
   "source": [
    "## Analysis Species Info\n",
    "The information shows that the data `species_info.csv` contains the category of a species (i.e. mammals), the scientific name, the common names and the conservation status. The conservation status has 191 values, and by further analysis it can be concluded that the spcecies that don't have a status mean they are not a species of concer, endangered, threatened or in recovery."
   ]
  },
  {
   "cell_type": "code",
   "execution_count": 21,
   "metadata": {},
   "outputs": [
    {
     "name": "stdout",
     "output_type": "stream",
     "text": [
      "<class 'pandas.core.frame.DataFrame'>\n",
      "RangeIndex: 5824 entries, 0 to 5823\n",
      "Data columns (total 4 columns):\n",
      " #   Column               Non-Null Count  Dtype \n",
      "---  ------               --------------  ----- \n",
      " 0   category             5824 non-null   object\n",
      " 1   scientific_name      5824 non-null   object\n",
      " 2   common_names         5824 non-null   object\n",
      " 3   conservation_status  191 non-null    object\n",
      "dtypes: object(4)\n",
      "memory usage: 182.1+ KB\n",
      "None\n",
      "\n",
      "Types of conservation status: [nan 'Species of Concern' 'Endangered' 'Threatened' 'In Recovery']\n"
     ]
    }
   ],
   "source": [
    "print(species_info.info())\n",
    "print()\n",
    "print(f\"Types of conservation status: {species_info.conservation_status.unique()}\")"
   ]
  },
  {
   "cell_type": "markdown",
   "metadata": {},
   "source": [
    "To have actual values and make a better analysis, the species that don't have a conservation status will have a value of `No conservation status`."
   ]
  },
  {
   "cell_type": "code",
   "execution_count": 22,
   "metadata": {},
   "outputs": [
    {
     "name": "stdout",
     "output_type": "stream",
     "text": [
      "<class 'pandas.core.frame.DataFrame'>\n",
      "RangeIndex: 5824 entries, 0 to 5823\n",
      "Data columns (total 4 columns):\n",
      " #   Column               Non-Null Count  Dtype \n",
      "---  ------               --------------  ----- \n",
      " 0   category             5824 non-null   object\n",
      " 1   scientific_name      5824 non-null   object\n",
      " 2   common_names         5824 non-null   object\n",
      " 3   conservation_status  5824 non-null   object\n",
      "dtypes: object(4)\n",
      "memory usage: 182.1+ KB\n",
      "None\n",
      "\n",
      "Types of conservation status: ['No status' 'Species of Concern' 'Endangered' 'Threatened' 'In Recovery']\n"
     ]
    }
   ],
   "source": [
    "species_info.conservation_status = species_info.conservation_status.fillna('No status')\n",
    "\n",
    "print(species_info.info())\n",
    "print()\n",
    "print(f\"Types of conservation status: {species_info.conservation_status.unique()}\")"
   ]
  },
  {
   "cell_type": "markdown",
   "metadata": {},
   "source": [
    "To make analysis easier, the column category will be change to a data type of category."
   ]
  },
  {
   "cell_type": "code",
   "execution_count": 17,
   "metadata": {},
   "outputs": [
    {
     "name": "stdout",
     "output_type": "stream",
     "text": [
      "<class 'pandas.core.frame.DataFrame'>\n",
      "RangeIndex: 5824 entries, 0 to 5823\n",
      "Data columns (total 4 columns):\n",
      " #   Column               Non-Null Count  Dtype   \n",
      "---  ------               --------------  -----   \n",
      " 0   category             5824 non-null   category\n",
      " 1   scientific_name      5824 non-null   object  \n",
      " 2   common_names         5824 non-null   object  \n",
      " 3   conservation_status  5824 non-null   object  \n",
      "dtypes: category(1), object(3)\n",
      "memory usage: 142.7+ KB\n"
     ]
    }
   ],
   "source": [
    "species_info.category = species_info.category.astype(\"category\")"
   ]
  },
  {
   "cell_type": "markdown",
   "metadata": {},
   "source": [
    "## Analysis observations\n",
    "Now, the analysis on observations shows that the data contains the scientific name, the park where the animal has been seen and how many times it has been seen."
   ]
  },
  {
   "cell_type": "code",
   "execution_count": 23,
   "metadata": {},
   "outputs": [
    {
     "name": "stdout",
     "output_type": "stream",
     "text": [
      "<class 'pandas.core.frame.DataFrame'>\n",
      "RangeIndex: 23296 entries, 0 to 23295\n",
      "Data columns (total 3 columns):\n",
      " #   Column           Non-Null Count  Dtype \n",
      "---  ------           --------------  ----- \n",
      " 0   scientific_name  23296 non-null  object\n",
      " 1   park_name        23296 non-null  object\n",
      " 2   observations     23296 non-null  int64 \n",
      "dtypes: int64(1), object(2)\n",
      "memory usage: 546.1+ KB\n",
      "None\n"
     ]
    }
   ],
   "source": [
    "print(observations.info())"
   ]
  },
  {
   "cell_type": "markdown",
   "metadata": {},
   "source": [
    "### General analysis of data\n",
    "Now, we can see that between the species that have a status, there are more species of concern that any other status."
   ]
  },
  {
   "cell_type": "code",
   "execution_count": 24,
   "metadata": {},
   "outputs": [
    {
     "data": {
      "image/png": "[encoded data removed]",
      "text/plain": [
       "<Figure size 640x480 with 1 Axes>"
      ]
     },
     "metadata": {},
     "output_type": "display_data"
    },
    {
     "data": {
      "text/plain": [
       "<Figure size 640x480 with 0 Axes>"
      ]
     },
     "metadata": {},
     "output_type": "display_data"
    }
   ],
   "source": [
    "import matplotlib.pyplot as plt\n",
    "import seaborn as sns\n",
    "\n",
    "species = species_info[species_info.conservation_status != 'No status'].conservation_status\n",
    "\n",
    "plt.hist(species, label=\"Species status\")\n",
    "plt.legend()\n",
    "plt.title(\"Species categories\")\n",
    "plt.show()\n",
    "plt.clf()"
   ]
  },
  {
   "cell_type": "markdown",
   "metadata": {},
   "source": [
    "From the graph below, we can also see that the endangered species that are more common are the mammals, then bird and fish, and at last the amphibian."
   ]
  },
  {
   "cell_type": "code",
   "execution_count": 30,
   "metadata": {},
   "outputs": [
    {
     "data": {
      "image/png": "[encoded data removed]",
      "text/plain": [
       "<Figure size 640x480 with 1 Axes>"
      ]
     },
     "metadata": {},
     "output_type": "display_data"
    },
    {
     "data": {
      "text/plain": [
       "<Figure size 640x480 with 0 Axes>"
      ]
     },
     "metadata": {},
     "output_type": "display_data"
    }
   ],
   "source": [
    "species_endangered = species_info[species_info.conservation_status == 'Endangered']\n",
    "\n",
    "sns.countplot(data=species_endangered, x='category')\n",
    "plt.show()\n",
    "plt.clf()"
   ]
  },
  {
   "cell_type": "markdown",
   "metadata": {},
   "source": [
    "As we can see of all the species that exist, the more species that have been seen are:"
   ]
  },
  {
   "cell_type": "code",
   "execution_count": 48,
   "metadata": {},
   "outputs": [
    {
     "name": "stdout",
     "output_type": "stream",
     "text": [
      "scientific_name\n",
      "Streptopelia decaocto    5355\n",
      "Holcus lanatus           5340\n",
      "Castor canadensis        5175\n",
      "Hypochaeris radicata     5160\n",
      "Puma concolor            5133\n",
      "                         ... \n",
      "Rana sierrae              144\n",
      "Noturus baileyi           143\n",
      "Vermivora bachmanii       141\n",
      "Canis rufus               137\n",
      "Grus americana            131\n",
      "Name: observations, Length: 5541, dtype: int64\n"
     ]
    }
   ],
   "source": [
    "total_observations = pd.merge(species_info, observations, on='scientific_name', how='inner')\n",
    "sum_species = total_observations.groupby('scientific_name').observations.sum()\n",
    "print(sum_species.sort_values(ascending=False))"
   ]
  },
  {
   "cell_type": "code",
   "execution_count": null,
   "metadata": {},
   "outputs": [],
   "source": []
  },
  {
   "cell_type": "code",
   "execution_count": null,
   "metadata": {},
   "outputs": [],
   "source": []
  }
 ],
 "metadata": {
  "kernelspec": {
   "display_name": "Python 3 (ipykernel)",
   "language": "python",
   "name": "python3"
  },
  "language_info": {
   "codemirror_mode": {
    "name": "ipython",
    "version": 3
   },
   "file_extension": ".py",
   "mimetype": "text/x-python",
   "name": "python",
   "nbconvert_exporter": "python",
   "pygments_lexer": "ipython3",
   "version": "3.11.5"
  }
 },
 "nbformat": 4,
 "nbformat_minor": 4
}
